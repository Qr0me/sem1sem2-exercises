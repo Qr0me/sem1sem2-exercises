{
 "cells": [
  {
   "cell_type": "code",
   "execution_count": 31,
   "metadata": {},
   "outputs": [
    {
     "name": "stdout",
     "output_type": "stream",
     "text": [
      "masterpiece\n",
      "scout\n"
     ]
    }
   ],
   "source": [
    "def conversion(m, k):\n",
    "    numToLetter = {\n",
    "        1 : 'a',\n",
    "        2 : 'b',\n",
    "        3 : 'c', \n",
    "        4 : 'd',\n",
    "        5 : 'e',\n",
    "        6 : 'f', \n",
    "        7 : 'g',\n",
    "        8 : 'h',\n",
    "        9 : 'i',\n",
    "        10 : 'j',\n",
    "        11 : 'k',\n",
    "        12 : 'l',\n",
    "        13 : 'm',\n",
    "        14 : 'n',\n",
    "        15 : 'o',\n",
    "        16 : 'p',\n",
    "        17 : 'q',\n",
    "        18 : 'r',\n",
    "        19 : 's',\n",
    "        20 : 't',\n",
    "        21 : 'u',\n",
    "        22 : 'v',\n",
    "        23 : 'w',\n",
    "        24 : 'x',\n",
    "        25 : 'y',\n",
    "        26 : 'z'\n",
    "    }\n",
    "\n",
    "    result = \"\"\n",
    "    key = str(k)\n",
    "    key = [int(digit) for digit in key]\n",
    "    \n",
    "    for i in range(len(m)):\n",
    "        newNum = m[i] - key[i%len(key)]\n",
    "        result += numToLetter[newNum]\n",
    "\n",
    "    return result\n",
    "    \n",
    "print(conversion([14, 10, 22, 29, 6, 27, 19, 18, 6, 12, 8], 1939))\n",
    "print(conversion([20, 12, 18, 30, 21], 1939))\n",
    "\n",
    "\n"
   ]
  }
 ],
 "metadata": {
  "language_info": {
   "name": "python"
  }
 },
 "nbformat": 4,
 "nbformat_minor": 2
}
