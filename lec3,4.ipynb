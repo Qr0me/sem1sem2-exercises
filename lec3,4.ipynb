{
 "cells": [
  {
   "cell_type": "code",
   "execution_count": 4,
   "metadata": {},
   "outputs": [
    {
     "name": "stdout",
     "output_type": "stream",
     "text": [
      "Enter your height:\n"
     ]
    },
    {
     "ename": "KeyboardInterrupt",
     "evalue": "Interrupted by user",
     "output_type": "error",
     "traceback": [
      "\u001b[1;31m---------------------------------------------------------------------------\u001b[0m",
      "\u001b[1;31mKeyboardInterrupt\u001b[0m                         Traceback (most recent call last)",
      "\u001b[1;32mc:\\Users\\lenovo\\Desktop\\lec3,4.ipynb Cell 1\u001b[0m line \u001b[0;36m<cell line: 3>\u001b[1;34m()\u001b[0m\n\u001b[0;32m      <a href='vscode-notebook-cell:/c%3A/Users/lenovo/Desktop/lec3%2C4.ipynb#W1sZmlsZQ%3D%3D?line=0'>1</a>\u001b[0m \u001b[39mprint\u001b[39m(\u001b[39m\"\u001b[39m\u001b[39mEnter your height:\u001b[39m\u001b[39m\"\u001b[39m)\n\u001b[0;32m      <a href='vscode-notebook-cell:/c%3A/Users/lenovo/Desktop/lec3%2C4.ipynb#W1sZmlsZQ%3D%3D?line=1'>2</a>\u001b[0m Ft\u001b[39m=\u001b[39m \u001b[39mfloat\u001b[39m(\u001b[39minput\u001b[39m(\u001b[39m\"\u001b[39m\u001b[39mFeet: \u001b[39m\u001b[39m\"\u001b[39m))\n\u001b[1;32m----> <a href='vscode-notebook-cell:/c%3A/Users/lenovo/Desktop/lec3%2C4.ipynb#W1sZmlsZQ%3D%3D?line=2'>3</a>\u001b[0m In\u001b[39m=\u001b[39m \u001b[39mfloat\u001b[39m(\u001b[39minput\u001b[39;49m(\u001b[39m\"\u001b[39;49m\u001b[39mInches: \u001b[39;49m\u001b[39m\"\u001b[39;49m))\n\u001b[0;32m      <a href='vscode-notebook-cell:/c%3A/Users/lenovo/Desktop/lec3%2C4.ipynb#W1sZmlsZQ%3D%3D?line=4'>5</a>\u001b[0m \u001b[39mprint\u001b[39m(\u001b[39m\"\u001b[39m\u001b[39mSuggested board length: \u001b[39m\u001b[39m\"\u001b[39m, \u001b[39m0.88\u001b[39m\u001b[39m*\u001b[39m(((\u001b[39m12\u001b[39m\u001b[39m*\u001b[39mFt)\u001b[39m+\u001b[39mIn)\u001b[39m*\u001b[39m\u001b[39m2.54\u001b[39m), \u001b[39m\"\u001b[39m\u001b[39mcm\u001b[39m\u001b[39m\"\u001b[39m)\n",
      "File \u001b[1;32mc:\\Users\\lenovo\\anaconda3\\lib\\site-packages\\ipykernel\\kernelbase.py:1075\u001b[0m, in \u001b[0;36mKernel.raw_input\u001b[1;34m(self, prompt)\u001b[0m\n\u001b[0;32m   1071\u001b[0m \u001b[39mif\u001b[39;00m \u001b[39mnot\u001b[39;00m \u001b[39mself\u001b[39m\u001b[39m.\u001b[39m_allow_stdin:\n\u001b[0;32m   1072\u001b[0m     \u001b[39mraise\u001b[39;00m StdinNotImplementedError(\n\u001b[0;32m   1073\u001b[0m         \u001b[39m\"\u001b[39m\u001b[39mraw_input was called, but this frontend does not support input requests.\u001b[39m\u001b[39m\"\u001b[39m\n\u001b[0;32m   1074\u001b[0m     )\n\u001b[1;32m-> 1075\u001b[0m \u001b[39mreturn\u001b[39;00m \u001b[39mself\u001b[39;49m\u001b[39m.\u001b[39;49m_input_request(\n\u001b[0;32m   1076\u001b[0m     \u001b[39mstr\u001b[39;49m(prompt),\n\u001b[0;32m   1077\u001b[0m     \u001b[39mself\u001b[39;49m\u001b[39m.\u001b[39;49m_parent_ident[\u001b[39m\"\u001b[39;49m\u001b[39mshell\u001b[39;49m\u001b[39m\"\u001b[39;49m],\n\u001b[0;32m   1078\u001b[0m     \u001b[39mself\u001b[39;49m\u001b[39m.\u001b[39;49mget_parent(\u001b[39m\"\u001b[39;49m\u001b[39mshell\u001b[39;49m\u001b[39m\"\u001b[39;49m),\n\u001b[0;32m   1079\u001b[0m     password\u001b[39m=\u001b[39;49m\u001b[39mFalse\u001b[39;49;00m,\n\u001b[0;32m   1080\u001b[0m )\n",
      "File \u001b[1;32mc:\\Users\\lenovo\\anaconda3\\lib\\site-packages\\ipykernel\\kernelbase.py:1120\u001b[0m, in \u001b[0;36mKernel._input_request\u001b[1;34m(self, prompt, ident, parent, password)\u001b[0m\n\u001b[0;32m   1117\u001b[0m             \u001b[39mbreak\u001b[39;00m\n\u001b[0;32m   1118\u001b[0m \u001b[39mexcept\u001b[39;00m \u001b[39mKeyboardInterrupt\u001b[39;00m:\n\u001b[0;32m   1119\u001b[0m     \u001b[39m# re-raise KeyboardInterrupt, to truncate traceback\u001b[39;00m\n\u001b[1;32m-> 1120\u001b[0m     \u001b[39mraise\u001b[39;00m \u001b[39mKeyboardInterrupt\u001b[39;00m(\u001b[39m\"\u001b[39m\u001b[39mInterrupted by user\u001b[39m\u001b[39m\"\u001b[39m) \u001b[39mfrom\u001b[39;00m \u001b[39mNone\u001b[39m\n\u001b[0;32m   1121\u001b[0m \u001b[39mexcept\u001b[39;00m \u001b[39mException\u001b[39;00m:\n\u001b[0;32m   1122\u001b[0m     \u001b[39mself\u001b[39m\u001b[39m.\u001b[39mlog\u001b[39m.\u001b[39mwarning(\u001b[39m\"\u001b[39m\u001b[39mInvalid Message:\u001b[39m\u001b[39m\"\u001b[39m, exc_info\u001b[39m=\u001b[39m\u001b[39mTrue\u001b[39;00m)\n",
      "\u001b[1;31mKeyboardInterrupt\u001b[0m: Interrupted by user"
     ]
    }
   ],
   "source": [
    "print(\"Enter your height:\")\n",
    "Ft= float(input(\"Feet: \"))\n",
    "In= float(input(\"Inches: \"))\n",
    "\n",
    "print(\"Suggested board length: \", 0.88*(((12*Ft)+In)*2.54), \"cm\")\n",
    "\n"
   ]
  },
  {
   "cell_type": "code",
   "execution_count": 62,
   "metadata": {},
   "outputs": [
    {
     "name": "stdout",
     "output_type": "stream",
     "text": [
      "Acceleration:  9.81\n"
     ]
    }
   ],
   "source": [
    "i = input(\"Force in N and Mass in kg (SEPARATE BY COMMA): \")\n",
    "\n",
    "x = i.split(\",\")\n",
    "\n",
    "print(\"Acceleration: \", float(x[0])/float(x[1]))\n"
   ]
  },
  {
   "cell_type": "code",
   "execution_count": 4,
   "metadata": {},
   "outputs": [
    {
     "name": "stdout",
     "output_type": "stream",
     "text": [
      "0.0,1.0 is in the y-axis\n"
     ]
    }
   ],
   "source": [
    "x = int(input(\"x-coord: \"))\n",
    "y = int(input(\"y-coord: \"))\n",
    "\n",
    "if x == 0 and y == 0:\n",
    "    print(f\"{x},{y} is the origin\")\n",
    "elif x>0 and y>0:\n",
    "    print(f\"{x},{y} is in the first quadrant\")\n",
    "elif x<0 and y>0: \n",
    "    print(f\"{x},{y} is in the second quadrant\")\n",
    "elif x<0 and y<0:\n",
    "    print(f\"{x},{y} is in the third quadrant\")\n",
    "elif x>0 and y<0:\n",
    "    print(f\"{x},{y} is in the fourth quadrant\")\n",
    "elif x==0 and (y>0 or y<0):\n",
    "    print(f\"{x},{y} is in the y-axis\")\n",
    "elif y==0 and (x>0 or x<0):\n",
    "    print(f\"{x},{y} is in the x-axis\")\n"
   ]
  },
  {
   "cell_type": "code",
   "execution_count": 10,
   "metadata": {},
   "outputs": [
    {
     "name": "stdout",
     "output_type": "stream",
     "text": [
      "1. Location \n",
      " 2. Move (Dir and Dist) \n",
      " 3. Reset \n",
      " 4. Quit \n",
      "0 0\n",
      "1. Location \n",
      " 2. Move (Dir and Dist) \n",
      " 3. Reset \n",
      " 4. Quit \n"
     ]
    }
   ],
   "source": [
    "while True:\n",
    "    print(\"1. Location \\n 2. Move (Dir and Dist) \\n 3. Reset \\n 4. Quit \")\n",
    "    Option = int(input(\"Input: \"))\n",
    "\n",
    "    LocX = 0\n",
    "    LocY = 0\n",
    "\n",
    "\n",
    "    if Option == 1:\n",
    "        print(LocX, LocY)\n",
    "    elif Option == 2:\n",
    "        Direction = input(\"Direction: \")\n",
    "        Distance = int(input(\"Distance: \"))\n",
    "        if Direction.upper == \"N\":\n",
    "            LocY += Distance\n",
    "            print(LocX, LocY)\n",
    "        elif Direction.upper == \"E\":\n",
    "            LocX += Distance\n",
    "            print(LocX, LocY)\n",
    "        elif Direction.upper == \"W\":\n",
    "            LocX -= Distance\n",
    "            print(LocX, LocY)\n",
    "        elif Direction.upper == \"S\":\n",
    "            LocY -= Distance\n",
    "            print(LocX, LocY)\n",
    "        else:\n",
    "            print(\"Direction not specified correctly\")\n",
    "    elif Option == 3:\n",
    "        LocX = 0\n",
    "        LocY = 0\n",
    "        print(LocX, LocY)\n",
    "    elif Option == 4:\n",
    "        print(\"break\")\n"
   ]
  }
 ],
 "metadata": {
  "kernelspec": {
   "display_name": "base",
   "language": "python",
   "name": "python3"
  },
  "language_info": {
   "codemirror_mode": {
    "name": "ipython",
    "version": 3
   },
   "file_extension": ".py",
   "mimetype": "text/x-python",
   "name": "python",
   "nbconvert_exporter": "python",
   "pygments_lexer": "ipython3",
   "version": "3.9.12"
  },
  "orig_nbformat": 4
 },
 "nbformat": 4,
 "nbformat_minor": 2
}
