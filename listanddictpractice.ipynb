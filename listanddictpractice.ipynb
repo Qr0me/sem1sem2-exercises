{
 "cells": [
  {
   "cell_type": "code",
   "execution_count": 5,
   "metadata": {},
   "outputs": [
    {
     "name": "stdout",
     "output_type": "stream",
     "text": [
      "DEFAULT:  {'gold': 500, 'pouch': ['flint', 'twine', 'gemstone'], 'backpack': ['xylophone', 'dagger', 'bedroll', 'bread loaf']}\n",
      "\n",
      "\n",
      "ADDING POCKET:  {'gold': 500, 'pouch': ['flint', 'twine', 'gemstone'], 'backpack': ['xylophone', 'dagger', 'bedroll', 'bread loaf'], 'pocket': ['seashell', 'strange berry', 'lint']}\n",
      "\n",
      "\n",
      "SORTING:  {'gold': 500, 'pouch': ['flint', 'twine', 'gemstone'], 'backpack': ['bedroll', 'bread loaf', 'dagger', 'xylophone'], 'pocket': ['seashell', 'strange berry', 'lint']}\n",
      "\n",
      "\n",
      "REMOVE DAGGER:  {'gold': 500, 'pouch': ['flint', 'twine', 'gemstone'], 'backpack': ['bedroll', 'bread loaf', 'xylophone'], 'pocket': ['seashell', 'strange berry', 'lint']}\n",
      "\n",
      "\n",
      "GOLD +50:  {'gold': 550, 'pouch': ['flint', 'twine', 'gemstone'], 'backpack': ['bedroll', 'bread loaf', 'xylophone'], 'pocket': ['seashell', 'strange berry', 'lint']}\n"
     ]
    }
   ],
   "source": [
    "inventory = {\n",
    "    'gold' : 500,\n",
    "    'pouch' : ['flint', 'twine', 'gemstone'],\n",
    "    'backpack' : ['xylophone','dagger', 'bedroll','bread loaf'], \n",
    "}\n",
    "\n",
    "print(\"DEFAULT: \", inventory)\n",
    "print(f\"\\n\")\n",
    "inventory['pocket'] = ['seashell', 'strange berry', 'lint']\n",
    "print(\"ADDING POCKET: \", inventory)\n",
    "print(f\"\\n\")\n",
    "bckpck = inventory['backpack']\n",
    "\n",
    "bckpck.sort()\n",
    "print(\"SORTING: \", inventory)\n",
    "print(f\"\\n\")\n",
    "bckpck.remove('dagger')\n",
    "print(\"REMOVE DAGGER: \", inventory)\n",
    "print(f\"\\n\")\n",
    "inventory['gold'] += 50\n",
    "print(\"GOLD +50: \", inventory)"
   ]
  },
  {
   "cell_type": "code",
   "execution_count": 8,
   "metadata": {},
   "outputs": [
    {
     "name": "stdout",
     "output_type": "stream",
     "text": [
      "banana\n",
      "Price: 4\n",
      "Stock: 6\n",
      "------------------------------------\n",
      "apple\n",
      "Price: 2\n",
      "Stock: 0\n",
      "------------------------------------\n",
      "orange\n",
      "Price: 1.5\n",
      "Stock: 32\n",
      "------------------------------------\n",
      "pear\n",
      "Price: 3\n",
      "Stock: 15\n",
      "------------------------------------\n",
      "Total:  117.0\n"
     ]
    }
   ],
   "source": [
    "prices = {}\n",
    "total = 0\n",
    "prices['banana'] = 4\n",
    "prices['apple'] = 2\n",
    "prices['orange'] = 1.5\n",
    "prices['pear'] = 3\n",
    "\n",
    "stock = {\n",
    "    'banana': 6,\n",
    "    'apple' : 0,\n",
    "    'orange': 32,\n",
    "    'pear' : 15\n",
    "}\n",
    "\n",
    "for fruit in prices:\n",
    "    print(fruit)\n",
    "    print(f\"Price: {prices[fruit]}\")\n",
    "    print(f\"Stock: {stock[fruit]}\")\n",
    "    print(\"------------------------------------\")\n",
    "    total += (prices[fruit] * stock[fruit])\n",
    "\n",
    "print(\"Total:\",total)\n",
    "\n",
    "\n"
   ]
  },
  {
   "cell_type": "code",
   "execution_count": 10,
   "metadata": {},
   "outputs": [
    {
     "name": "stdout",
     "output_type": "stream",
     "text": [
      "stock of apple is empty\n",
      "Total:  5.5\n"
     ]
    }
   ],
   "source": [
    "prices = {\n",
    "    'banana' : 4,\n",
    "    'apple' : 2,\n",
    "    'orange' : 1.5,\n",
    "    'pear' : 3\n",
    "}\n",
    "\n",
    "stock = {\n",
    "    'banana': 6,\n",
    "    'apple' : 0,\n",
    "    'orange': 32,\n",
    "    'pear' : 15\n",
    "}\n",
    "\n",
    "groceries = [\"banana\",\"orange\", \"apple\"]\n",
    "\n",
    "def compute_bill(food):\n",
    "    total = 0\n",
    "\n",
    "    for i in food:\n",
    "        if stock[i] >0:\n",
    "            total += prices[i]\n",
    "            stock[i] -= 1\n",
    "        else:\n",
    "            print(f\"Stock of {i} is empty\")\n",
    "        \n",
    "    return total\n",
    "\n",
    "print(\"Total: \",compute_bill(groceries))"
   ]
  },
  {
   "cell_type": "code",
   "execution_count": 34,
   "metadata": {},
   "outputs": [
    {
     "name": "stdout",
     "output_type": "stream",
     "text": [
      "Result for square:  [1, 4, 9, 16, 25, 36, 49, 64, 81, 100]\n",
      "Result for product:  3628800\n",
      "Result for even:  [2, 4, 6, 8, 10]\n"
     ]
    }
   ],
   "source": [
    "from functools import reduce\n",
    "numbers = [1,2,3,4,5,6,7,8,9,10]\n",
    "list1 = [1, 2, 3]\n",
    "square = lambda x:x*x\n",
    "even = lambda x: x%2==0\n",
    "product = lambda x,y:x*y\n",
    "\n",
    "result = list(map(square, numbers))\n",
    "print(\"Result for square: \", result)\n",
    "\n",
    "result1 = reduce(product, numbers)\n",
    "print(\"Result for product: \", result1)\n",
    "\n",
    "result2 = list(filter(even, numbers))\n",
    "print(\"Result for even: \", result2)\n"
   ]
  }
 ],
 "metadata": {
  "kernelspec": {
   "display_name": "base",
   "language": "python",
   "name": "python3"
  },
  "language_info": {
   "codemirror_mode": {
    "name": "ipython",
    "version": 3
   },
   "file_extension": ".py",
   "mimetype": "text/x-python",
   "name": "python",
   "nbconvert_exporter": "python",
   "pygments_lexer": "ipython3",
   "version": "3.9.12"
  }
 },
 "nbformat": 4,
 "nbformat_minor": 2
}
